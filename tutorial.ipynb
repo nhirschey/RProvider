
        {
            "cells": [
          {
           "cell_type": "markdown",
           "metadata": {},
           
           "source": ["// can\u0027t yet format YamlFrontmatter ([\"category: Documentation\"; \"categoryindex: 1\"; \"index: 1\"], Some { StartLine = 2 StartColumn = 0 EndLine = 5 EndColumn = 8 }) to pynb markdown\n",
"\n"]
          }
,
          {
           "cell_type": "code",
           "metadata": {},
            "execution_count": null, "outputs": [], 
           "source": ["#r \"nuget: RProvider,{{package-version}}\"\n"]
          }
,
          {
           "cell_type": "markdown",
           "metadata": {},
           
           "source": ["# R Provider Tutorial\n",
"\n",
"This tutorial demonstrates how to use the R type provider in an F# script. You\n",
"can also use the R type provider in other scenarios such as apps and libraries.\n",
"\n",
"## System requirements\n",
"\n",
"Make sure you have set up your system as specified [here](requirements.fsx).\n",
"\n",
"## Referencing the provider\n",
"\n",
"First, make a new F# script (e.g., sample.fsx). In your new script, first load\n",
"the R type provider from the NuGet package repository.\n",
"\n",
"    [lang=fsharp]\n",
"    #r \"nuget:RProvider\"\n",
"\n",
"For this tutorial, we use `open` to reference a number of packages \n",
"including `stats`, `tseries` and `zoo`:\n"]
          }
,
          {
           "cell_type": "code",
           "metadata": {},
            "execution_count": null, "outputs": [], 
           "source": ["open RProvider\n",
"open RProvider.graphics\n",
"open RProvider.stats\n",
"open RProvider.tseries\n",
"open RProvider.zoo\n",
"\n",
"open System\n",
"open System.Net\n"]
          }
,
          {
           "cell_type": "markdown",
           "metadata": {},
           
           "source": ["If either of the namespaces above are unrecognized, you need to install the package in R\n",
"using `install.packages(\"stats\")`.\n",
"\n",
"## Pretty-printing R values\n",
"\n",
"Add this line to your script to tell F# interactive how to print out\n",
"the values of R objects:\n"]
          }
,
          {
           "cell_type": "code",
           "metadata": {},
            "execution_count": null, "outputs": [], 
           "source": ["fsi.AddPrinter FSIPrinters.rValue\n"]
          }
,
          {
           "cell_type": "markdown",
           "metadata": {},
           
           "source": ["## Obtaining data\n",
"\n",
"In this tutorial, we use [F# Data](http://fsharp.github.io/FSharp.Data/) to access stock\n",
"prices from the Yahoo Finance portal. For more information, see the documentation for the\n",
"[CSV type provider](http://fsharp.github.io/FSharp.Data/library/CsvProvider.html).\n",
"\n",
"The following snippet uses the CSV type provider to generate a type `Stocks` that can be\n",
"used for parsing CSV data from Yahoo. Then it defines a function `getStockPrices` that returns\n",
"array with prices for the specified stock and a specified number of days:\n"]
          }
,
          {
           "cell_type": "code",
           "metadata": {},
            "execution_count": null, "outputs": [], 
           "source": ["#r \"nuget:FSharp.Data\"\n",
"open FSharp.Data\n",
"\n",
"type Stocks = CsvProvider\u003c\"http://ichart.finance.yahoo.com/table.csv?s=SPX\"\u003e\n",
" \n",
"/// Returns prices of a given stock for a specified number \n",
"/// of days (starting from the most recent)\n",
"let getStockPrices stock count =\n",
"  let url = \"http://ichart.finance.yahoo.com/table.csv?s=\"\n",
"  [| for r in Stocks.Load(url + stock).Take(count).Rows -\u003e float r.Open |] \n",
"  |\u003e Array.rev\n",
"\n",
"/// Get opening prices for MSFT for the last 255 days\n",
"let msftOpens = getStockPrices \"MSFT\" 255\n"]
          }
,
          {
           "cell_type": "markdown",
           "metadata": {},
           
           "source": ["## Calling R functions\n",
"\n",
"Now, we\u0027re ready to call R functions using the type provider. The following snippet takes\n",
"`msftOpens`, calculates logarithm of the values using `R.log` and then calculates the \n",
"differences of the resulting vector using `R.diff`:\n"]
          }
,
          {
           "cell_type": "code",
           "metadata": {},
            "execution_count": null, "outputs": [], 
           "source": ["// Retrieve stock price time series and compute returns\n",
"let msft = msftOpens |\u003e R.log |\u003e R.diff\n"]
          }
,
          {
           "cell_type": "markdown",
           "metadata": {},
           
           "source": ["If you want to see the resulting values, you can call `msft.AsVector()` in F# Interactive.\n",
"Next, we use the `acf` function to display the atuo-correlation and call `adf_test` to\n",
"see if the `msft` returns are stationary/non-unit root:\n"]
          }
,
          {
           "cell_type": "code",
           "metadata": {},
            "execution_count": null, "outputs": [], 
           "source": ["let a = R.acf(msft)\n",
"let adf = R.adf_test(msft) \n"]
          }
,
          {
           "cell_type": "markdown",
           "metadata": {},
           
           "source": ["After running the first snippet, a window similar to the following should appear (note that\n",
"it might not appear as a top-most window).\n",
"\n",
"\u003cdiv style=\"text-align:center\"\u003e\n",
"\u003cimg src=\"img/acf.png\" /\u003e\n",
"\u003c/div\u003e\n",
"\n",
"Finally, we can obtain data for multiple different indicators and use the `R.pairs` function\n",
"to produce a matrix of scatter plots:\n"]
          }
,
          {
           "cell_type": "code",
           "metadata": {},
            "execution_count": null, "outputs": [], 
           "source": ["// Build a list of tickers and get diff of logs of prices for each one\n",
"let tickers = \n",
"  [ \"MSFT\"; \"AAPL\"; \"X\"; \"VXX\"; \"SPX\"; \"GLD\" ]\n",
"let data =\n",
"  [ for t in tickers -\u003e \n",
"      printfn \"got one!\"\n",
"      t, getStockPrices t 255 |\u003e R.log |\u003e R.diff ]\n",
"\n",
"// Create an R data frame with the data and call \u0027R.pairs\u0027\n",
"let df = R.data_frame(namedParams data)\n",
"R.pairs(df)\n"]
          }
,
          {
           "cell_type": "markdown",
           "metadata": {},
           
           "source": ["As a result, you should see a window showing results similar to these:\n",
"\n",
"\u003cdiv style=\"text-align:center\"\u003e\n",
"\u003cimg src=\"img/pairs.png\" /\u003e\n",
"\u003c/div\u003e\n",
"\n"]
          }],
            "metadata": {
            "kernelspec": {"display_name": ".NET (F#)", "language": "F#", "name": ".net-fsharp"},
            "langauge_info": {
        "file_extension": ".fs",
        "mimetype": "text/x-fsharp",
        "name": "C#",
        "pygments_lexer": "fsharp",
        "version": "4.5"
        }
        },
            "nbformat": 4,
            "nbformat_minor": 1
        }
        

